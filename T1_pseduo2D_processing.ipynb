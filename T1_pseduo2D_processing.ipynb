{
 "cells": [
  {
   "cell_type": "code",
   "execution_count": 1,
   "metadata": {},
   "outputs": [],
   "source": [
    "import matplotlib \n",
    "import matplotlib.pyplot as plt\n",
    "import numpy as np\n",
    "import scipy as scipy\n",
    "from scipy import optimize\n",
    "import matplotlib.ticker as ticker\n",
    "from matplotlib.ticker import AutoMinorLocator\n",
    "from matplotlib import gridspec\n",
    "import nmrglue as ng\n",
    "import os\n",
    "import os.path\n",
    "import sys\n",
    "import pandas as pd\n",
    "%matplotlib inline"
   ]
  },
  {
   "cell_type": "code",
   "execution_count": 177,
   "metadata": {},
   "outputs": [],
   "source": [
    "ddir_tet=\"/Users/yunyao/Documents/Experiments_Data/data/Superatom_2020/20200708_Yunyao_C60/35/pdata/1\""
   ]
  },
  {
   "cell_type": "code",
   "execution_count": 178,
   "metadata": {},
   "outputs": [],
   "source": [
    "dic, data=ng.bruker.read_pdata(ddir_tet)\n",
    "udic=ng.bruker.guess_udic(dic,data)\n",
    "uc=ng.fileiobase.uc_from_udic(udic)\n",
    "ppm_scale=uc.ppm_scale()"
   ]
  },
  {
   "cell_type": "code",
   "execution_count": 72,
   "metadata": {},
   "outputs": [
    {
     "data": {
      "text/plain": [
       "1177772988.0"
      ]
     },
     "execution_count": 72,
     "metadata": {},
     "output_type": "execute_result"
    }
   ],
   "source": [
    "float(data[0][uc(189.4,'ppm')])"
   ]
  },
  {
   "cell_type": "code",
   "execution_count": 179,
   "metadata": {},
   "outputs": [],
   "source": [
    "#new_df=pd.DataFrame(columns=['time','intensity'])\n",
    "intensity=[]\n",
    "for i in range(1,10):\n",
    "    #val=data[i][uc(189.4,'ppm')]\n",
    "    intensity.append(data[i][uc(189.5,'ppm')])\n",
    "    #print(data[i][uc(189.4,'ppm')])\n"
   ]
  },
  {
   "cell_type": "code",
   "execution_count": 180,
   "metadata": {},
   "outputs": [],
   "source": [
    "time=[]\n",
    "ddir_time='/opt/topspin3.6.2/exp/stan/nmr/lists/vd/t1delay'\n",
    "with open (ddir_time, 'r') as f:\n",
    "    next(f)\n",
    "    for line in f:\n",
    "        #print(line)\n",
    "        newline=line.rstrip('\\n').rstrip('\\\\').rstrip('\\t').rstrip('\\ ')\n",
    "        time.append(float(newline))"
   ]
  },
  {
   "cell_type": "code",
   "execution_count": 181,
   "metadata": {},
   "outputs": [],
   "source": [
    "#normalized the intensity\n",
    "intensity_nor=intensity/max(intensity)"
   ]
  },
  {
   "cell_type": "code",
   "execution_count": 182,
   "metadata": {},
   "outputs": [],
   "source": [
    "time_array=np.array(time)"
   ]
  },
  {
   "cell_type": "code",
   "execution_count": 183,
   "metadata": {},
   "outputs": [
    {
     "data": {
      "text/plain": [
       "[<matplotlib.lines.Line2D at 0x11ef97650>]"
      ]
     },
     "execution_count": 183,
     "metadata": {},
     "output_type": "execute_result"
    },
    {
     "data": {
      "image/png": "[encoded data removed]",
      "text/plain": [
       "<Figure size 432x288 with 1 Axes>"
      ]
     },
     "metadata": {
      "needs_background": "light"
     },
     "output_type": "display_data"
    }
   ],
   "source": [
    "fig=plt.figure()\n",
    "plt.plot(time,intensity_nor,'ro')\n"
   ]
  },
  {
   "cell_type": "code",
   "execution_count": 184,
   "metadata": {},
   "outputs": [],
   "source": [
    "def _T1_recovery(x, t1):\n",
    "    return 1-2*np.exp(-x/t1)\n",
    "\n",
    "def T1_fit(time, intensity, initial_val):\n",
    "    popt, pcov = scipy.optimize.curve_fit(_T1_recovery, time, intensity, initial_val)\n",
    "    perr= np.sqrt(np.diag(pcov))\n",
    "    decay_curve = _T1_recovery (time, *popt)\n",
    "    print (\"t1_value = {:0.2f} (+/-) {:0.2f}\".format(popt[0], perr[0]))\n",
    "    fig = plt.figure(figsize=(5,3))\n",
    "    gs = gridspec.GridSpec(2,1,height_ratios=[1,0.25] )\n",
    "    ax1 = fig.add_subplot(gs[0])\n",
    "    #ax2  =fig.add_subplot(gs[1])\n",
    "    gs.update(hspace=0)\n",
    "\n",
    "    ax1.plot(time, intensity, \"ro\", label='Experimental data')\n",
    "    ax1.plot(time, _T1_recovery(time,*popt), 'k--',linewidth=2, label='Fitted data')\n",
    "    ax1.xaxis.set_major_locator(ticker.AutoLocator())\n",
    "    ax1.xaxis.set_minor_locator(ticker.AutoMinorLocator())\n",
    "    ax1.set_xlabel('Delay time/S')\n",
    "    ax1.set_ylabel('Normalized intensity')\n",
    "    ax1.text(2, 0.6, \"t1_value = {:0.2f} (+/-) {:0.2f}\".format(popt[0], perr[0]))\n",
    "    #ax1.set_xlim(max_ppm, min_ppm)\n",
    "    #ax2.set_xlim(max_ppm, min_ppm)\n",
    "\n",
    "    plt.tight_layout()\n",
    "    plt.title('T1 fitting for KC60 13C at 270K')\n",
    "    ax1.legend()\n",
    "    \n",
    "    fig.savefig(\"T1 fitting for KC60 13C at 270K.pdf\", format=\"pdf\",dpi=1000)\n",
    "    #ax1.set_xscale('log')\n"
   ]
  },
  {
   "cell_type": "code",
   "execution_count": 185,
   "metadata": {},
   "outputs": [
    {
     "name": "stdout",
     "output_type": "stream",
     "text": [
      "t1_value = 0.15 (+/-) 0.01\n"
     ]
    },
    {
     "data": {
      "image/png": "[encoded data removed]",
      "text/plain": [
       "<Figure size 360x216 with 1 Axes>"
      ]
     },
     "metadata": {
      "needs_background": "light"
     },
     "output_type": "display_data"
    }
   ],
   "source": [
    "T1_fit(time_array,intensity_nor,0.2)"
   ]
  },
  {
   "cell_type": "code",
   "execution_count": null,
   "metadata": {},
   "outputs": [],
   "source": []
  }
 ],
 "metadata": {
  "kernelspec": {
   "display_name": "Python 3",
   "language": "python",
   "name": "python3"
  },
  "language_info": {
   "codemirror_mode": {
    "name": "ipython",
    "version": 3
   },
   "file_extension": ".py",
   "mimetype": "text/x-python",
   "name": "python",
   "nbconvert_exporter": "python",
   "pygments_lexer": "ipython3",
   "version": "3.7.6"
  }
 },
 "nbformat": 4,
 "nbformat_minor": 4
}
