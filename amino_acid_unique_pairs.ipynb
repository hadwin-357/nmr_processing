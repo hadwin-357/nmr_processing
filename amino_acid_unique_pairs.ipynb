{
 "cells": [
  {
   "cell_type": "code",
   "execution_count": null,
   "metadata": {
    "collapsed": true
   },
   "outputs": [],
   "source": [
    "import Bio.SeqIO"
   ]
  },
  {
   "cell_type": "code",
   "execution_count": null,
   "metadata": {
    "collapsed": false,
    "scrolled": true
   },
   "outputs": [],
   "source": [
    "# LeuT_fasta = 'LeuT_sequence'\n",
    "\n",
    "# with open(LeuT_fasta, \"r\") as fid:\n",
    "#     print(fid)\n",
    "#     records = Bio.SeqIO.to_dict(Bio.SeqIO.parse(fid, \"fasta\"))\n",
    "\n",
    "print(1+1)\n",
    "#segments = ['TIA1_Mouse', 'Loop0', 'RRM1', 'Loop12', 'RRM2', 'Loop23', 'RRM3', 'RRM23', 'PRD']\n",
    "\n",
    "# tia1 = records['TIA1_Mouse'].seq\n",
    "\n",
    "# from collections import defaultdict\n",
    "\n",
    "\n",
    "# forward = defaultdict(int)\n",
    "# forward_possition = defaultdict(list)\n",
    "\n",
    "# backward = defaultdict(int)\n",
    "# backward_possition = defaultdict(list)\n",
    "\n",
    "\n",
    "# for n, (res1, res2) in enumerate(zip(tia1, tia1[1:])):\n",
    "#     pair = res1+res2\n",
    "#     forward[pair] += 1\n",
    "#     forward_possition[pair].append(n)\n",
    "    \n",
    "#     other_pair = pair[::-1]\n",
    "#     backward[other_pair] += 1\n",
    "#     backward_possition[other_pair].append(n+1)\n",
    "    \n",
    "# prd_start = 292\n",
    "# forward_unique_pairs = []\n",
    "# backward_unique_pairs = []\n",
    "\n",
    "# for pair, count in forward.items():\n",
    "#     if count == 1:\n",
    "#         possition = forward_possition[pair][0]\n",
    "#         if possition >= prd_start:\n",
    "#             forward_unique_pairs.append((possition, pair))\n",
    "            \n",
    "# for pair, count in backward.items():\n",
    "#     if count == 1:\n",
    "#         possition = backward_possition[pair][0]\n",
    "#         if possition >= prd_start:\n",
    "#             backward_unique_pairs.append((possition, pair))\n",
    "\n",
    "# print('forward')\n",
    "# for line in forward_unique_pairs:\n",
    "#     print(str(line[0])+line[1])\n",
    "# print('backward')\n",
    "# for line in backward_unique_pairs:\n",
    "#     print(str(line[0])+line[1])"
   ]
  },
  {
   "cell_type": "code",
   "execution_count": 67,
   "metadata": {
    "collapsed": false
   },
   "outputs": [
    {
     "name": "stdout",
     "output_type": "stream",
     "text": [
      "0\n",
      "0\n",
      "[]\n",
      "[]\n"
     ]
    }
   ],
   "source": [
    "# print(forward['MY'])\n",
    "# print(backward['MY'])\n",
    "\n",
    "# print(forward_possition['MY'])\n",
    "# print(backward_possition['MY'])"
   ]
  },
  {
   "cell_type": "code",
   "execution_count": null,
   "metadata": {
    "collapsed": true
   },
   "outputs": [],
   "source": []
  }
 ],
 "metadata": {
  "kernelspec": {
   "display_name": "Python 3",
   "language": "python",
   "name": "python3"
  },
  "language_info": {
   "codemirror_mode": {
    "name": "ipython",
    "version": 3
   },
   "file_extension": ".py",
   "mimetype": "text/x-python",
   "name": "python",
   "nbconvert_exporter": "python",
   "pygments_lexer": "ipython3",
   "version": "3.6.0"
  }
 },
 "nbformat": 4,
 "nbformat_minor": 2
}
