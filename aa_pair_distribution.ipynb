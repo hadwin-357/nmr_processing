{
 "cells": [
  {
   "cell_type": "code",
   "execution_count": 32,
   "id": "southeast-field",
   "metadata": {},
   "outputs": [
    {
     "ename": "ModuleNotFoundError",
     "evalue": "No module named 'fiona'",
     "output_type": "error",
     "traceback": [
      "\u001b[0;31m---------------------------------------------------------------------------\u001b[0m",
      "\u001b[0;31mModuleNotFoundError\u001b[0m                       Traceback (most recent call last)",
      "Input \u001b[0;32mIn [32]\u001b[0m, in \u001b[0;36m<cell line: 17>\u001b[0;34m()\u001b[0m\n\u001b[1;32m     15\u001b[0m \u001b[38;5;28;01mfrom\u001b[39;00m \u001b[38;5;21;01mio\u001b[39;00m \u001b[38;5;28;01mimport\u001b[39;00m StringIO\n\u001b[1;32m     16\u001b[0m \u001b[38;5;28;01mfrom\u001b[39;00m \u001b[38;5;21;01mpluq\u001b[39;00m\u001b[38;5;21;01m.\u001b[39;00m\u001b[38;5;21;01mbase\u001b[39;00m \u001b[38;5;28;01mimport\u001b[39;00m Correlation\n\u001b[0;32m---> 17\u001b[0m \u001b[38;5;28;01mfrom\u001b[39;00m \u001b[38;5;21;01mpluq\u001b[39;00m\u001b[38;5;21;01m.\u001b[39;00m\u001b[38;5;21;01mfileio\u001b[39;00m \u001b[38;5;28;01mimport\u001b[39;00m read_region\n\u001b[1;32m     18\u001b[0m \u001b[38;5;28;01mimport\u001b[39;00m \u001b[38;5;21;01mscipy\u001b[39;00m\n\u001b[1;32m     20\u001b[0m sns\u001b[38;5;241m.\u001b[39mset_context(\u001b[38;5;124m'\u001b[39m\u001b[38;5;124mpaper\u001b[39m\u001b[38;5;124m'\u001b[39m)\n",
      "File \u001b[0;32m/opt/homebrew/lib/python3.11/site-packages/pluq-0.2.1-py3.11.egg/pluq/fileio.py:10\u001b[0m, in \u001b[0;36m<module>\u001b[0;34m\u001b[0m\n\u001b[1;32m      7\u001b[0m \u001b[38;5;28;01mfrom\u001b[39;00m \u001b[38;5;21;01mcollections\u001b[39;00m \u001b[38;5;28;01mimport\u001b[39;00m defaultdict\n\u001b[1;32m      9\u001b[0m \u001b[38;5;28;01mimport\u001b[39;00m \u001b[38;5;21;01mh5py\u001b[39;00m\n\u001b[0;32m---> 10\u001b[0m \u001b[38;5;28;01mimport\u001b[39;00m \u001b[38;5;21;01mfiona\u001b[39;00m\n\u001b[1;32m     11\u001b[0m \u001b[38;5;28;01mfrom\u001b[39;00m \u001b[38;5;21;01mshapely\u001b[39;00m\u001b[38;5;21;01m.\u001b[39;00m\u001b[38;5;21;01mgeometry\u001b[39;00m \u001b[38;5;28;01mimport\u001b[39;00m shape\n\u001b[1;32m     13\u001b[0m \u001b[38;5;28;01mfrom\u001b[39;00m \u001b[38;5;21;01mpluq\u001b[39;00m\u001b[38;5;21;01m.\u001b[39;00m\u001b[38;5;21;01mbase\u001b[39;00m \u001b[38;5;28;01mimport\u001b[39;00m Correlation\n",
      "\u001b[0;31mModuleNotFoundError\u001b[0m: No module named 'fiona'"
     ]
    }
   ],
   "source": [
    "import pandas as pd\n",
    "import matplotlib.pyplot as plt\n",
    "import numpy as np\n",
    "import re\n",
    "import pluq\n",
    "import pluq.aminoacids\n",
    "from io import StringIO\n",
    "#import pynmrstar\n",
    "from collections import defaultdict\n",
    "#import seaborn as sns\n",
    "import nmrglue as ng \n",
    "#from descartes import PolygonPatch\n",
    "#from lmfit import Model\n",
    "import itertools\n",
    "from io import StringIO\n",
    "from pluq.base import Correlation\n",
    "from pluq.fileio import read_region\n",
    "import scipy\n",
    "\n",
    "sns.set_context('paper')\n",
    "sns.set_palette('colorblind')\n",
    "plt.rcParams['svg.fonttype'] = 'none'\n",
    "\n",
    "domain_colors = ['purple', '#fc8d62', '#66c2a5']"
   ]
  },
  {
   "cell_type": "code",
   "execution_count": 15,
   "id": "b7e969e1",
   "metadata": {},
   "outputs": [
    {
     "name": "stdout",
     "output_type": "stream",
     "text": [
      "Collecting lmfit\n",
      "  Downloading lmfit-1.2.2-py3-none-any.whl (102 kB)\n",
      "\u001b[2K     \u001b[90m━━━━━━━━━━━━━━━━━━━━━━━━━━━━━━━━━━━━━━━\u001b[0m \u001b[32m103.0/103.0 kB\u001b[0m \u001b[31m2.9 MB/s\u001b[0m eta \u001b[36m0:00:00\u001b[0m\n",
      "\u001b[?25hCollecting asteval>=0.9.28 (from lmfit)\n",
      "  Downloading asteval-0.9.31-py3-none-any.whl (20 kB)\n",
      "Requirement already satisfied: numpy>=1.19 in /opt/homebrew/lib/python3.10/site-packages (from lmfit) (1.24.3)\n",
      "Requirement already satisfied: scipy>=1.6 in /opt/homebrew/lib/python3.10/site-packages (from lmfit) (1.10.1)\n",
      "Collecting uncertainties>=3.1.4 (from lmfit)\n",
      "  Using cached uncertainties-3.1.7-py2.py3-none-any.whl (98 kB)\n",
      "Collecting future (from uncertainties>=3.1.4->lmfit)\n",
      "  Downloading future-0.18.3.tar.gz (840 kB)\n",
      "\u001b[2K     \u001b[90m━━━━━━━━━━━━━━━━━━━━━━━━━━━━━━━━━━━━━━\u001b[0m \u001b[32m840.9/840.9 kB\u001b[0m \u001b[31m16.7 MB/s\u001b[0m eta \u001b[36m0:00:00\u001b[0m00:01\u001b[0m\n",
      "\u001b[?25h  Preparing metadata (setup.py) ... \u001b[?25ldone\n",
      "\u001b[?25hBuilding wheels for collected packages: future\n",
      "  Building wheel for future (setup.py) ... \u001b[?25ldone\n",
      "\u001b[?25h  Created wheel for future: filename=future-0.18.3-py3-none-any.whl size=492022 sha256=0c1063daab011c01924afc24753482145495e7abc67a31d2045d00a5365ce84b\n",
      "  Stored in directory: /Users/yunyao_1/Library/Caches/pip/wheels/5e/a9/47/f118e66afd12240e4662752cc22cefae5d97275623aa8ef57d\n",
      "Successfully built future\n",
      "Installing collected packages: future, asteval, uncertainties, lmfit\n",
      "Successfully installed asteval-0.9.31 future-0.18.3 lmfit-1.2.2 uncertainties-3.1.7\n",
      "\n",
      "\u001b[1m[\u001b[0m\u001b[34;49mnotice\u001b[0m\u001b[1;39;49m]\u001b[0m\u001b[39;49m A new release of pip is available: \u001b[0m\u001b[31;49m23.1.2\u001b[0m\u001b[39;49m -> \u001b[0m\u001b[32;49m23.2.1\u001b[0m\n",
      "\u001b[1m[\u001b[0m\u001b[34;49mnotice\u001b[0m\u001b[1;39;49m]\u001b[0m\u001b[39;49m To update, run: \u001b[0m\u001b[32;49mpython3.10 -m pip install --upgrade pip\u001b[0m\n"
     ]
    }
   ],
   "source": [
    "!pip3 install lmfit"
   ]
  },
  {
   "cell_type": "code",
   "execution_count": 10,
   "id": "4a590d93",
   "metadata": {},
   "outputs": [],
   "source": [
    "import os\n",
    "import sys\n",
    "path = os.path.abspath(os.path.join('/opt/homebrew/lib/python3.11/site-packages/pluq-0.2.1-py3.11.egg'))\n",
    "if path not in sys.path:\n",
    "    sys.path.append(path)"
   ]
  },
  {
   "cell_type": "code",
   "execution_count": 2,
   "id": "separate-personality",
   "metadata": {},
   "outputs": [
    {
     "data": {
      "text/plain": [
       "398"
      ]
     },
     "execution_count": 2,
     "metadata": {},
     "output_type": "execute_result"
    }
   ],
   "source": [
    "seq=''' GHMASMEMEKEFEQIDKSGS WAAIYQDIRHEASDFPCRVA KLPKNKNRNRYRDVSPFDHS RIKLHQEDNDYINASLIKME EAQRSYILTQGPLPNTCGHF WEMVWEQKSRGVVMLNRVME KGSLKCAQYWPQKEEKEMIF EDTNLKLTLISEDIKSYYTV RQLELENLTTQETREILHFH YTTWPDFGVPESPASFLNFL FKVRESGSLSPEHGPVVVHC SAGIGRSGTFCLADTCLLLM DKRKDPSSVDIKKVLLEMRK FRMGLIQTADQLRFSYLAVI EGAKFIMGDSSVQDQWKELS HEDLEPPPEHIPPPPRPPKR ILEPHNGKCREFFPNHQWVK EETQEDKDCPIKEEKGSPLN AAPYGIESMSQDTEVRSRVV GGSLRGAQAASPAKGEPS'''\n",
    "seq=''.join(seq.split())\n",
    "#CTD=slice(275,414)\n",
    "#Q_N_rich=slice(341,368)\n",
    "len(seq)"
   ]
  },
  {
   "cell_type": "code",
   "execution_count": 24,
   "id": "c114d070",
   "metadata": {},
   "outputs": [
    {
     "name": "stdout",
     "output_type": "stream",
     "text": [
      "   Amino Acid  Count  Percentage\n",
      "0           G     22         5.5\n",
      "1           H     13         3.3\n",
      "2           M     13         3.3\n",
      "3           A     20         5.0\n",
      "4           S     32         8.0\n",
      "5           E     39         9.8\n",
      "6           K     29         7.3\n",
      "7           F     16         4.0\n",
      "8           Q     18         4.5\n",
      "9           I     20         5.0\n",
      "10          D     21         5.3\n",
      "11          W      7         1.8\n",
      "12          Y     10         2.5\n",
      "13          R     23         5.8\n",
      "14          P     28         7.0\n",
      "15          C      8         2.0\n",
      "16          V     20         5.0\n",
      "17          L     31         7.8\n",
      "18          N     13         3.3\n",
      "19          T     15         3.8\n"
     ]
    }
   ],
   "source": [
    "import pandas as pd\n",
    "\n",
    "def calculate_amino_acid_percentages(sequence):\n",
    "    # Dictionary to store the count of each amino acid\n",
    "    amino_acid_counts = {}\n",
    "\n",
    "    # Calculate the total number of amino acids in the sequence\n",
    "    total_amino_acids = len(sequence)\n",
    "\n",
    "    # Loop through the sequence and count each amino acid\n",
    "    for amino_acid in sequence:\n",
    "        amino_acid_counts[amino_acid] = amino_acid_counts.get(amino_acid, 0) + 1\n",
    "\n",
    "    # Dictionary to store the percentage of each amino acid\n",
    "    amino_acid_percentages = {}\n",
    "\n",
    "    # Calculate the percentage of each amino acid\n",
    "    for amino_acid, count in amino_acid_counts.items():\n",
    "        percentage = (count / total_amino_acids) * 100\n",
    "        amino_acid_percentages[amino_acid] = percentage\n",
    "\n",
    "    return amino_acid_counts, amino_acid_percentages\n",
    "\n",
    "\n",
    "if __name__ == \"__main__\":\n",
    "    amino_acid_sequence = seq\n",
    "    counts, percentages = calculate_amino_acid_percentages(amino_acid_sequence)\n",
    "\n",
    "    # Create a Pandas DataFrame\n",
    "    df = pd.DataFrame({\n",
    "        \"Amino Acid\": list(counts.keys()),\n",
    "        \"Count\": list(counts.values()),\n",
    "        \"Percentage\": [round(percentage, 1) for percentage in percentages.values()]\n",
    "    })\n",
    "\n",
    "    print(df)\n"
   ]
  },
  {
   "cell_type": "code",
   "execution_count": 26,
   "id": "4692cccf",
   "metadata": {},
   "outputs": [
    {
     "data": {
      "image/png": "[encoded data removed]",
      "text/plain": [
       "<Figure size 432x288 with 1 Axes>"
      ]
     },
     "metadata": {
      "needs_background": "light"
     },
     "output_type": "display_data"
    }
   ],
   "source": [
    "#plot\n",
    "width=0.65\n",
    "x=np.arange(len(df['Amino Acid']))\n",
    "fig, ax = plt.subplots()\n",
    "labels=df['Amino Acid']\n",
    "dist=ax.bar(x, df['Percentage'], width)\n",
    "ax.set_ylabel('Amino Acid percentage %')\n",
    "ax.set_title('Amino Acids Distribution in TDP')\n",
    "ax.set_xticks(x)\n",
    "ax.set_ylim((0,30))\n",
    "ax.set_xticklabels(labels)\n",
    "\n",
    "def autolabel(rects,labels):\n",
    "    \"\"\"Attach a text label above each bar in *rects*, displaying its height.\"\"\"\n",
    "    for (rect,  label) in zip(rects, labels):\n",
    "        height = rect.get_height()\n",
    "        ax.annotate('{}'.format(height),\n",
    "                    xy=(rect.get_x() + rect.get_width() / 2, height),\n",
    "                    xytext=(0, 3),  # 3 points vertical offset\n",
    "                    textcoords=\"offset points\",\n",
    "                    ha='center', va='bottom')\n",
    "        #print(label)\n",
    "        \n",
    "        ax.annotate('{}'.format(label), \n",
    "                   xy=(rect.get_x() + rect.get_width() / 2, height),\n",
    "                    xytext=(0, 18),  # 3 points vertical offset\n",
    "                    textcoords=\"offset points\",\n",
    "                    ha='center', va='bottom', bbox=dict(boxstyle='round,pad=0.2', fc='yellow', alpha=0.3))\n",
    "#rects=df['No.of_res']\n",
    "autolabel(dist,df['Count'] )\n",
    "fig.tight_layout()\n",
    "fig.savefig('PTP1B_AA_distribution.png', format=\"png\",dpi=1000)"
   ]
  },
  {
   "cell_type": "markdown",
   "id": "1c87905a",
   "metadata": {},
   "source": []
  },
  {
   "cell_type": "code",
   "execution_count": 31,
   "id": "apart-plasma",
   "metadata": {},
   "outputs": [
    {
     "data": {
      "image/png": "[encoded data removed]",
      "text/plain": [
       "<Figure size 1296x216 with 1 Axes>"
      ]
     },
     "metadata": {
      "needs_background": "light"
     },
     "output_type": "display_data"
    }
   ],
   "source": [
    "pair=[]\n",
    "for i in range(1,len(seq)-1):\n",
    "    pair.append(seq[i]+seq[i+1])\n",
    "dic_pair={}\n",
    "#CTD_list=list(seq)\n",
    "AA_PTP1B=set(seq)\n",
    "for res1 in AA_PTP1B:\n",
    "    for res2 in AA_PTP1B:\n",
    "        dic_pair[res1 + res2]= pair.count(res1 + res2)\n",
    "\n",
    "def omit_by(dct, predicate=lambda x: x==0 ):\n",
    "    return {k: v for k, v in dct.items() if not predicate(v)}        \n",
    "#dic_pair\n",
    "fig=plt.figure(figsize=(18,3))\n",
    "plt.grid(axis='y', color='0.95')\n",
    "plt.bar(omit_by(dic_pair).keys(),omit_by(dic_pair).values())\n",
    "plt.savefig('PTP1B_AA_pair_disctribution.pdf',dpi=300)\n",
    "#omit_by(dic_pair)"
   ]
  },
  {
   "cell_type": "code",
   "execution_count": null,
   "id": "8475f081",
   "metadata": {},
   "outputs": [],
   "source": []
  }
 ],
 "metadata": {
  "kernelspec": {
   "display_name": "Python 3 (ipykernel)",
   "language": "python",
   "name": "python3"
  },
  "language_info": {
   "codemirror_mode": {
    "name": "ipython",
    "version": 3
   },
   "file_extension": ".py",
   "mimetype": "text/x-python",
   "name": "python",
   "nbconvert_exporter": "python",
   "pygments_lexer": "ipython3",
   "version": "3.8.12"
  }
 },
 "nbformat": 4,
 "nbformat_minor": 5
}
